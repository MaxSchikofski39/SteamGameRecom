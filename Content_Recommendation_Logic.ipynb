{
 "cells": [
  {
   "cell_type": "code",
   "execution_count": 17,
   "id": "b9bd92a6",
   "metadata": {},
   "outputs": [
    {
     "ename": "Exception",
     "evalue": "File `'LightFMEmbRecomm'` not found.",
     "output_type": "error",
     "traceback": [
      "\u001b[0;31m---------------------------------------------------------------------------\u001b[0m",
      "\u001b[0;31mOSError\u001b[0m                                   Traceback (most recent call last)",
      "File \u001b[0;32m~/anaconda3/lib/python3.11/site-packages/IPython/core/magics/execution.py:716\u001b[0m, in \u001b[0;36mExecutionMagics.run\u001b[0;34m(self, parameter_s, runner, file_finder)\u001b[0m\n\u001b[1;32m    715\u001b[0m     fpath \u001b[38;5;241m=\u001b[39m arg_lst[\u001b[38;5;241m0\u001b[39m]\n\u001b[0;32m--> 716\u001b[0m     filename \u001b[38;5;241m=\u001b[39m file_finder(fpath)\n\u001b[1;32m    717\u001b[0m \u001b[38;5;28;01mexcept\u001b[39;00m \u001b[38;5;167;01mIndexError\u001b[39;00m \u001b[38;5;28;01mas\u001b[39;00m e:\n",
      "File \u001b[0;32m~/anaconda3/lib/python3.11/site-packages/IPython/utils/path.py:90\u001b[0m, in \u001b[0;36mget_py_filename\u001b[0;34m(name)\u001b[0m\n\u001b[1;32m     89\u001b[0m         \u001b[38;5;28;01mreturn\u001b[39;00m py_name\n\u001b[0;32m---> 90\u001b[0m \u001b[38;5;28;01mraise\u001b[39;00m \u001b[38;5;167;01mIOError\u001b[39;00m(\u001b[38;5;124m\"\u001b[39m\u001b[38;5;124mFile `\u001b[39m\u001b[38;5;132;01m%r\u001b[39;00m\u001b[38;5;124m` not found.\u001b[39m\u001b[38;5;124m\"\u001b[39m \u001b[38;5;241m%\u001b[39m name)\n",
      "\u001b[0;31mOSError\u001b[0m: File `'LightFMEmbRecomm'` not found.",
      "\nThe above exception was the direct cause of the following exception:\n",
      "\u001b[0;31mException\u001b[0m                                 Traceback (most recent call last)",
      "Cell \u001b[0;32mIn[17], line 1\u001b[0m\n\u001b[0;32m----> 1\u001b[0m get_ipython()\u001b[38;5;241m.\u001b[39mrun_line_magic(\u001b[38;5;124m'\u001b[39m\u001b[38;5;124mrun\u001b[39m\u001b[38;5;124m'\u001b[39m, \u001b[38;5;124m'\u001b[39m\u001b[38;5;124mLightFMEmbRecomm last 5 years(1).ipynb\u001b[39m\u001b[38;5;124m'\u001b[39m)\n",
      "File \u001b[0;32m~/anaconda3/lib/python3.11/site-packages/IPython/core/interactiveshell.py:2432\u001b[0m, in \u001b[0;36mInteractiveShell.run_line_magic\u001b[0;34m(self, magic_name, line, _stack_depth)\u001b[0m\n\u001b[1;32m   2430\u001b[0m     kwargs[\u001b[38;5;124m'\u001b[39m\u001b[38;5;124mlocal_ns\u001b[39m\u001b[38;5;124m'\u001b[39m] \u001b[38;5;241m=\u001b[39m \u001b[38;5;28mself\u001b[39m\u001b[38;5;241m.\u001b[39mget_local_scope(stack_depth)\n\u001b[1;32m   2431\u001b[0m \u001b[38;5;28;01mwith\u001b[39;00m \u001b[38;5;28mself\u001b[39m\u001b[38;5;241m.\u001b[39mbuiltin_trap:\n\u001b[0;32m-> 2432\u001b[0m     result \u001b[38;5;241m=\u001b[39m fn(\u001b[38;5;241m*\u001b[39margs, \u001b[38;5;241m*\u001b[39m\u001b[38;5;241m*\u001b[39mkwargs)\n\u001b[1;32m   2434\u001b[0m \u001b[38;5;66;03m# The code below prevents the output from being displayed\u001b[39;00m\n\u001b[1;32m   2435\u001b[0m \u001b[38;5;66;03m# when using magics with decorator @output_can_be_silenced\u001b[39;00m\n\u001b[1;32m   2436\u001b[0m \u001b[38;5;66;03m# when the last Python token in the expression is a ';'.\u001b[39;00m\n\u001b[1;32m   2437\u001b[0m \u001b[38;5;28;01mif\u001b[39;00m \u001b[38;5;28mgetattr\u001b[39m(fn, magic\u001b[38;5;241m.\u001b[39mMAGIC_OUTPUT_CAN_BE_SILENCED, \u001b[38;5;28;01mFalse\u001b[39;00m):\n",
      "File \u001b[0;32m~/anaconda3/lib/python3.11/site-packages/IPython/core/magics/execution.py:727\u001b[0m, in \u001b[0;36mExecutionMagics.run\u001b[0;34m(self, parameter_s, runner, file_finder)\u001b[0m\n\u001b[1;32m    725\u001b[0m     \u001b[38;5;28;01mif\u001b[39;00m os\u001b[38;5;241m.\u001b[39mname \u001b[38;5;241m==\u001b[39m \u001b[38;5;124m'\u001b[39m\u001b[38;5;124mnt\u001b[39m\u001b[38;5;124m'\u001b[39m \u001b[38;5;129;01mand\u001b[39;00m re\u001b[38;5;241m.\u001b[39mmatch(\u001b[38;5;124mr\u001b[39m\u001b[38;5;124m\"\u001b[39m\u001b[38;5;124m^\u001b[39m\u001b[38;5;124m'\u001b[39m\u001b[38;5;124m.*\u001b[39m\u001b[38;5;124m'\u001b[39m\u001b[38;5;124m$\u001b[39m\u001b[38;5;124m\"\u001b[39m,fpath):\n\u001b[1;32m    726\u001b[0m         warn(\u001b[38;5;124m'\u001b[39m\u001b[38;5;124mFor Windows, use double quotes to wrap a filename: \u001b[39m\u001b[38;5;132;01m%r\u001b[39;00m\u001b[38;5;124mun \u001b[39m\u001b[38;5;124m\"\u001b[39m\u001b[38;5;124mmypath\u001b[39m\u001b[38;5;130;01m\\\\\u001b[39;00m\u001b[38;5;124mmyfile.py\u001b[39m\u001b[38;5;124m\"\u001b[39m\u001b[38;5;124m'\u001b[39m)\n\u001b[0;32m--> 727\u001b[0m     \u001b[38;5;28;01mraise\u001b[39;00m \u001b[38;5;167;01mException\u001b[39;00m(msg) \u001b[38;5;28;01mfrom\u001b[39;00m \u001b[38;5;21;01me\u001b[39;00m\n\u001b[1;32m    728\u001b[0m \u001b[38;5;28;01mexcept\u001b[39;00m \u001b[38;5;167;01mTypeError\u001b[39;00m:\n\u001b[1;32m    729\u001b[0m     \u001b[38;5;28;01mif\u001b[39;00m fpath \u001b[38;5;129;01min\u001b[39;00m sys\u001b[38;5;241m.\u001b[39mmeta_path:\n",
      "\u001b[0;31mException\u001b[0m: File `'LightFMEmbRecomm'` not found."
     ]
    }
   ],
   "source": []
  },
  {
   "cell_type": "code",
   "execution_count": null,
   "id": "f7b07df4",
   "metadata": {},
   "outputs": [],
   "source": []
  },
  {
   "cell_type": "code",
   "execution_count": null,
   "id": "6961e08e",
   "metadata": {},
   "outputs": [],
   "source": []
  },
  {
   "cell_type": "code",
   "execution_count": 5,
   "id": "d7026f60",
   "metadata": {},
   "outputs": [
    {
     "name": "stdout",
     "output_type": "stream",
     "text": [
      "✅ tfidf_df successfully created with shape: (4092, 477)\n"
     ]
    }
   ],
   "source": [
    "import ast\n",
    "from sklearn.feature_extraction.text import TfidfVectorizer\n",
    "\n",
    "# ✅ Step 1: Copy and fix tag format\n",
    "games_processed_all = games_processed.copy()\n",
    "\n",
    "# 🔄 Convert stringified lists into real lists\n",
    "games_processed_all[\"tags\"] = games_processed_all[\"tags\"].apply(\n",
    "    lambda x: ast.literal_eval(x) if isinstance(x, str) else []\n",
    ")\n",
    "\n",
    "# ✅ Step 2: Filter out entries with very short or empty tags\n",
    "games_processed_all = games_processed_all[games_processed_all[\"tags\"].apply(lambda tags: len(tags) > 1)]\n",
    "\n",
    "# ✅ Step 3: Convert tags to space-separated strings\n",
    "games_processed_all[\"tags_text\"] = games_processed_all[\"tags\"].apply(lambda tags: \" \".join(tags))\n",
    "games_processed_all = games_processed_all[games_processed_all[\"tags_text\"].str.strip() != \"\"]\n",
    "\n",
    "# ✅ Step 4: TF-IDF vectorization\n",
    "vectorizer = TfidfVectorizer(token_pattern=r\"(?u)\\b\\w+\\b\")\n",
    "tfidf_matrix = vectorizer.fit_transform(games_processed_all[\"tags_text\"])\n",
    "\n",
    "# ✅ Step 5: Create DataFrame\n",
    "tfidf_df = pd.DataFrame(tfidf_matrix.toarray(), index=games_processed_all[\"app_id\"], columns=vectorizer.get_feature_names_out())\n",
    "\n",
    "print(\"✅ tfidf_df successfully created with shape:\", tfidf_df.shape)"
   ]
  },
  {
   "cell_type": "code",
   "execution_count": null,
   "id": "70b11d8a",
   "metadata": {},
   "outputs": [],
   "source": []
  },
  {
   "cell_type": "code",
   "execution_count": null,
   "id": "e82e88ed",
   "metadata": {},
   "outputs": [],
   "source": []
  },
  {
   "cell_type": "code",
   "execution_count": 6,
   "id": "3c047767",
   "metadata": {},
   "outputs": [
    {
     "name": "stdout",
     "output_type": "stream",
     "text": [
      "✅ Built TF-IDF profiles for 15340 users.\n"
     ]
    }
   ],
   "source": [
    "\n",
    "# ✅ Step 6: Build user profiles using training set and TF-IDF tag vectors\n",
    "\n",
    "user_profiles_tfidf = {}\n",
    "for user_id in df_train[\"user_id\"].unique():\n",
    "    app_ids = df_train[df_train[\"user_id\"] == user_id][\"app_id\"]\n",
    "    valid_ids = app_ids[app_ids.isin(tfidf_df.index)]\n",
    "    vectors = tfidf_df.loc[valid_ids]\n",
    "    if not vectors.empty:\n",
    "        user_profiles_tfidf[user_id] = vectors.mean(axis=0).values.reshape(1, -1)\n",
    "\n",
    "print(f\"✅ Built TF-IDF profiles for {len(user_profiles_tfidf)} users.\")\n"
   ]
  },
  {
   "cell_type": "code",
   "execution_count": 7,
   "id": "7a908a1c",
   "metadata": {},
   "outputs": [
    {
     "name": "stdout",
     "output_type": "stream",
     "text": [
      "✅ Recommender supports fallback for cold users and can be evaluated.\n"
     ]
    }
   ],
   "source": [
    "\n",
    "# ✅ recommend_tfidf_contentwith fallback for cold start users\n",
    "\n",
    "def recommend_tfidf_content(user_id, top_n=10):\n",
    "    if user_id not in user_profiles_tfidf:\n",
    "        fallback = games_processed_all.sort_values(by=\"user_reviews\", ascending=False).head(top_n)\n",
    "        recs = fallback[[\"app_id\", \"title\"]].copy()\n",
    "        recs.insert(0, \"user_id\", user_id)\n",
    "        return recs\n",
    "\n",
    "    user_vector = user_profiles_tfidf[user_id]\n",
    "    similarities = cosine_similarity(user_vector, tfidf_df.values).flatten()\n",
    "\n",
    "    played = set(df_train[df_train[\"user_id\"] == user_id][\"app_id\"])\n",
    "    sorted_indices = similarities.argsort()[::-1]\n",
    "    recommended_ids = [tfidf_df.index[i] for i in sorted_indices if tfidf_df.index[i] not in played][:top_n]\n",
    "\n",
    "    recs = games_processed_all[games_processed_all[\"app_id\"].isin(recommended_ids)][[\"app_id\", \"title\"]].copy()\n",
    "    recs.insert(0, \"user_id\", user_id)\n",
    "    return recs\n",
    "\n",
    "print(\"✅ Recommender supports fallback for cold users and can be evaluated.\")\n"
   ]
  },
  {
   "cell_type": "code",
   "execution_count": 9,
   "id": "903cbd48",
   "metadata": {},
   "outputs": [
    {
     "name": "stdout",
     "output_type": "stream",
     "text": [
      "🧑‍💻 TF-IDF Recommendation for User ID: 1239\n",
      "\n",
      "🔝 Top Tags for this User:\n"
     ]
    },
    {
     "data": {
      "text/plain": [
       "co               0.116373\n",
       "op               0.116373\n",
       "point            0.111643\n",
       "click            0.111643\n",
       "story            0.093963\n",
       "rich             0.092953\n",
       "surreal          0.085293\n",
       "soundtrack       0.083325\n",
       "psychological    0.074942\n",
       "adventure        0.071114\n",
       "dtype: float64"
      ]
     },
     "metadata": {},
     "output_type": "display_data"
    },
    {
     "name": "stdout",
     "output_type": "stream",
     "text": [
      "\n",
      "🎮 Top 5 Game Recommendations:\n"
     ]
    },
    {
     "data": {
      "text/html": [
       "<div>\n",
       "<style scoped>\n",
       "    .dataframe tbody tr th:only-of-type {\n",
       "        vertical-align: middle;\n",
       "    }\n",
       "\n",
       "    .dataframe tbody tr th {\n",
       "        vertical-align: top;\n",
       "    }\n",
       "\n",
       "    .dataframe thead th {\n",
       "        text-align: right;\n",
       "    }\n",
       "</style>\n",
       "<table border=\"1\" class=\"dataframe\">\n",
       "  <thead>\n",
       "    <tr style=\"text-align: right;\">\n",
       "      <th></th>\n",
       "      <th>app_id</th>\n",
       "      <th>title</th>\n",
       "    </tr>\n",
       "  </thead>\n",
       "  <tbody>\n",
       "    <tr>\n",
       "      <th>0</th>\n",
       "      <td>1119710</td>\n",
       "      <td>looK INside - Chapter 1</td>\n",
       "    </tr>\n",
       "    <tr>\n",
       "      <th>1</th>\n",
       "      <td>661680</td>\n",
       "      <td>Growbot</td>\n",
       "    </tr>\n",
       "    <tr>\n",
       "      <th>2</th>\n",
       "      <td>465100</td>\n",
       "      <td>LUNA The Shadow Dust</td>\n",
       "    </tr>\n",
       "    <tr>\n",
       "      <th>3</th>\n",
       "      <td>1282320</td>\n",
       "      <td>Stilstand</td>\n",
       "    </tr>\n",
       "    <tr>\n",
       "      <th>4</th>\n",
       "      <td>1742930</td>\n",
       "      <td>Looking Up I See Only A Ceiling</td>\n",
       "    </tr>\n",
       "  </tbody>\n",
       "</table>\n",
       "</div>"
      ],
      "text/plain": [
       "    app_id                            title\n",
       "0  1119710          looK INside - Chapter 1\n",
       "1   661680                          Growbot\n",
       "2   465100             LUNA The Shadow Dust\n",
       "3  1282320                        Stilstand\n",
       "4  1742930  Looking Up I See Only A Ceiling"
      ]
     },
     "metadata": {},
     "output_type": "display_data"
    }
   ],
   "source": [
    "\n",
    "# 🔍 Demo: View a TF-IDF user profile and their top 5 content-based recommendations\n",
    "\n",
    "# Pick a sample user with a TF-IDF profile\n",
    "#sample_user_id = next(iter(user_profiles_tfidf.keys()))\n",
    "# 🔍 Demo: Recommend games for any user (TF-IDF or fallback)\n",
    "\n",
    "sample_user_id = 1239  # Change this to test any user\n",
    "\n",
    "if sample_user_id in user_profiles_tfidf:\n",
    "    # ✅ TF-IDF path\n",
    "    user_vector = user_profiles_tfidf[sample_user_id]\n",
    "    similarities = cosine_similarity(user_vector, tfidf_df.values).flatten()\n",
    "\n",
    "    played = set(df_train[df_train[\"user_id\"] == sample_user_id][\"app_id\"])\n",
    "    sorted_indices = similarities.argsort()[::-1]\n",
    "    recommended_ids = [tfidf_df.index[i] for i in sorted_indices if tfidf_df.index[i] not in played][:5]\n",
    "\n",
    "    recommended_games = games_processed_all[games_processed_all[\"app_id\"].isin(recommended_ids)][[\"app_id\", \"title\"]].reset_index(drop=True)\n",
    "\n",
    "    # Show user's top tags\n",
    "    user_tag_scores = pd.Series(user_vector.flatten(), index=tfidf_df.columns).sort_values(ascending=False)\n",
    "    top_user_tags = user_tag_scores.head(10)\n",
    "\n",
    "    print(f\"🧑‍💻 TF-IDF Recommendation for User ID: {sample_user_id}\")\n",
    "    print(\"\\n🔝 Top Tags for this User:\")\n",
    "    display(top_user_tags)\n",
    "\n",
    "    print(\"\\n🎮 Top 5 Game Recommendations:\")\n",
    "    display(recommended_games)\n",
    "\n",
    "else:\n",
    "    # 🧊 Fallback for cold start user\n",
    "    recommendations = recommend_tfidf_content(sample_user_id, top_n=5)\n",
    "    print(f\"🧊 Fallback Recommendation for Cold Start User ID: {sample_user_id}\")\n",
    "    display(recommendations)\n"
   ]
  },
  {
   "cell_type": "code",
   "execution_count": null,
   "id": "289030a8",
   "metadata": {},
   "outputs": [],
   "source": []
  },
  {
   "cell_type": "code",
   "execution_count": 11,
   "id": "e95f2add",
   "metadata": {},
   "outputs": [],
   "source": [
    "# ✅ Autoencoder-based Content-Based Recommender (Tag Embedding)\n",
    "\n",
    "from sklearn.neural_network import MLPRegressor\n",
    "from sklearn.metrics.pairwise import cosine_similarity\n",
    "\n",
    "# Step 1: Use tag matrix from already encoded tags\n",
    "# Step 1: Use TF-IDF matrix instead of one-hot encoding\n",
    "tag_matrix = tfidf_df.values\n",
    "app_ids = tfidf_df.index.values\n",
    "\n",
    "# Step 2: Train a shallow autoencoder\n",
    "autoencoder = MLPRegressor(hidden_layer_sizes=(50,), max_iter=2000, random_state=42)\n",
    "autoencoder.fit(tag_matrix, tag_matrix)\n",
    "\n",
    "# Step 3: Get latent representations (encoded tag vectors)\n",
    "encoded_vectors = autoencoder.predict(tag_matrix)\n",
    "latent_df = pd.DataFrame(encoded_vectors, index=app_ids)\n",
    "\n",
    "\n",
    "# Step 4: Build user profiles in latent space\n",
    "user_profiles_autoenc = {}\n",
    "for user_id in df_train[\"user_id\"].unique():\n",
    "    app_ids_user = df_train[df_train[\"user_id\"] == user_id][\"app_id\"]\n",
    "    valid_ids = app_ids_user[app_ids_user.isin(latent_df.index)]\n",
    "    user_vector = latent_df.loc[valid_ids].mean(axis=0)\n",
    "    if not user_vector.isna().any():\n",
    "        user_profiles_autoenc[user_id] = user_vector.values.reshape(1, -1)\n",
    "\n",
    "# Step 5: Recommendation function\n",
    "\n",
    "def recommend_autoencoder_content(user_id, top_n=10):\n",
    "    if user_id not in user_profiles_autoenc:\n",
    "        fallback = games_processed_all.sort_values(by=\"user_reviews\", ascending=False).head(top_n)\n",
    "        recs = fallback[[\"app_id\", \"title\"]].copy()\n",
    "        recs.insert(0, \"user_id\", user_id)\n",
    "        return recs\n",
    "\n",
    "    user_vector = user_profiles_autoenc[user_id]\n",
    "    similarities = cosine_similarity(user_vector, latent_df.values).flatten()\n",
    "\n",
    "    played = set(df_train[df_train[\"user_id\"] == user_id][\"app_id\"])\n",
    "    sorted_indices = similarities.argsort()[::-1]\n",
    "    recommended_ids = [latent_df.index[i] for i in sorted_indices if latent_df.index[i] not in played][:top_n]\n",
    "\n",
    "    recs = games_processed_all[games_processed_all[\"app_id\"].isin(recommended_ids)][[\"app_id\", \"title\"]].copy()\n",
    "    recs.insert(0, \"user_id\", user_id)\n",
    "    return recs\n",
    "\n"
   ]
  },
  {
   "cell_type": "code",
   "execution_count": 13,
   "id": "3431062d",
   "metadata": {},
   "outputs": [
    {
     "name": "stdout",
     "output_type": "stream",
     "text": [
      "🧠 Autoencoder-Based Recommendations for User ID: 1239\n",
      "\n",
      "🔝 Top Latent Dimensions for this User (Autoencoder):\n"
     ]
    },
    {
     "data": {
      "text/plain": [
       "latent_82     0.098119\n",
       "latent_296    0.095385\n",
       "latent_344    0.089647\n",
       "latent_406    0.088943\n",
       "latent_3      0.071969\n",
       "latent_216    0.071247\n",
       "latent_36     0.068982\n",
       "latent_330    0.068172\n",
       "latent_274    0.067839\n",
       "latent_80     0.065558\n",
       "dtype: float64"
      ]
     },
     "metadata": {},
     "output_type": "display_data"
    },
    {
     "data": {
      "text/html": [
       "<div>\n",
       "<style scoped>\n",
       "    .dataframe tbody tr th:only-of-type {\n",
       "        vertical-align: middle;\n",
       "    }\n",
       "\n",
       "    .dataframe tbody tr th {\n",
       "        vertical-align: top;\n",
       "    }\n",
       "\n",
       "    .dataframe thead th {\n",
       "        text-align: right;\n",
       "    }\n",
       "</style>\n",
       "<table border=\"1\" class=\"dataframe\">\n",
       "  <thead>\n",
       "    <tr style=\"text-align: right;\">\n",
       "      <th></th>\n",
       "      <th>user_id</th>\n",
       "      <th>app_id</th>\n",
       "      <th>title</th>\n",
       "    </tr>\n",
       "  </thead>\n",
       "  <tbody>\n",
       "    <tr>\n",
       "      <th>725</th>\n",
       "      <td>1239</td>\n",
       "      <td>1119710</td>\n",
       "      <td>looK INside - Chapter 1</td>\n",
       "    </tr>\n",
       "    <tr>\n",
       "      <th>726</th>\n",
       "      <td>1239</td>\n",
       "      <td>1141020</td>\n",
       "      <td>Adventure Escape Mysteries</td>\n",
       "    </tr>\n",
       "    <tr>\n",
       "      <th>1202</th>\n",
       "      <td>1239</td>\n",
       "      <td>661680</td>\n",
       "      <td>Growbot</td>\n",
       "    </tr>\n",
       "    <tr>\n",
       "      <th>1814</th>\n",
       "      <td>1239</td>\n",
       "      <td>1320770</td>\n",
       "      <td>노베나 디아볼로스 : 어나더</td>\n",
       "    </tr>\n",
       "    <tr>\n",
       "      <th>2749</th>\n",
       "      <td>1239</td>\n",
       "      <td>1442590</td>\n",
       "      <td>Letter Vetter</td>\n",
       "    </tr>\n",
       "  </tbody>\n",
       "</table>\n",
       "</div>"
      ],
      "text/plain": [
       "      user_id   app_id                       title\n",
       "725      1239  1119710     looK INside - Chapter 1\n",
       "726      1239  1141020  Adventure Escape Mysteries\n",
       "1202     1239   661680                     Growbot\n",
       "1814     1239  1320770             노베나 디아볼로스 : 어나더\n",
       "2749     1239  1442590               Letter Vetter"
      ]
     },
     "metadata": {},
     "output_type": "display_data"
    }
   ],
   "source": [
    "# 🔍 Demo: Recommend games for any user using Autoencoder (with fallback)\n",
    "\n",
    "sample_user_id = 1239  # Change this to test another user\n",
    "\n",
    "recommendations = recommend_autoencoder_content(sample_user_id, top_n=5)\n",
    "\n",
    "if sample_user_id in user_profiles_autoenc:\n",
    "    print(f\"\\U0001f9e0 Autoencoder-Based Recommendations for User ID: {sample_user_id}\")\n",
    "        \n",
    "    # Show top 10 latent dimensions for the user\n",
    "    user_vector = user_profiles_autoenc[sample_user_id]\n",
    "    user_latent_scores = pd.Series(user_vector.flatten(), index=[f\"latent_{i}\" for i in range(user_vector.shape[1])])\n",
    "    top_latent_features = user_latent_scores.sort_values(ascending=False).head(10)\n",
    "\n",
    "    print(\"\\n🔝 Top Latent Dimensions for this User (Autoencoder):\")\n",
    "    display(top_latent_features)\n",
    "else:\n",
    "    print(f\"\\U0001f9ca Fallback for Cold Start User ID: {sample_user_id}\")\n",
    "\n",
    "display(recommendations)"
   ]
  },
  {
   "cell_type": "code",
   "execution_count": 14,
   "id": "f4c76f8d",
   "metadata": {},
   "outputs": [
    {
     "name": "stdout",
     "output_type": "stream",
     "text": [
      "✅ Evaluation Results (Autoencoder Recommender):\n",
      "Users Evaluated: 15380\n",
      "Avg Precision: 0.004\n",
      "Avg Recall: 0.0395\n",
      "Avg F1: 0.0073\n",
      "Avg Accuracy: 0.004\n",
      "Avg NDCG@k: 0.0171\n"
     ]
    }
   ],
   "source": [
    "from sklearn.metrics import precision_score, recall_score, f1_score, accuracy_score\n",
    "from collections import defaultdict\n",
    "import numpy as np\n",
    "\n",
    "def evaluate_recommender(model_function, df_test, k=10):\n",
    "    \"\"\"\n",
    "    Evaluate a content-based recommender system using precision, recall, f1, accuracy, precision@k, ndcg@k.\n",
    "    \n",
    "    Parameters:\n",
    "    - model_function: recommendation function taking user_id and top_n=k\n",
    "    - df_test: test set with user_id and app_id columns\n",
    "    - k: number of recommendations per user\n",
    "\n",
    "    Returns:\n",
    "    - metrics: dictionary with average scores\n",
    "    \"\"\"\n",
    "    true_positives = 0\n",
    "    total_recommended = 0\n",
    "    total_relevant = 0\n",
    "\n",
    "    precision_scores = []\n",
    "    recall_scores = []\n",
    "    f1_scores = []\n",
    "    accuracy_scores = []\n",
    "    ndcg_scores = []\n",
    "\n",
    "    users_evaluated = 0\n",
    "\n",
    "    grouped_test = df_test.groupby(\"user_id\")\n",
    "    \n",
    "    for user_id, group in grouped_test:\n",
    "        true_items = set(group[\"app_id\"])\n",
    "        if not true_items:\n",
    "            continue\n",
    "\n",
    "        recs = model_function(user_id, top_n=k)\n",
    "        predicted_items = list(recs[\"app_id\"].dropna())\n",
    "        \n",
    "        if not predicted_items:\n",
    "            continue\n",
    "\n",
    "        y_true = [1 if app_id in true_items else 0 for app_id in predicted_items]\n",
    "        y_pred = [1] * len(predicted_items)  # recommender always predicts relevance\n",
    "\n",
    "        # Basic metrics\n",
    "        precision_scores.append(precision_score(y_true, y_pred, zero_division=0))\n",
    "        recall_scores.append(recall_score(y_true, y_pred, zero_division=0))\n",
    "        f1_scores.append(f1_score(y_true, y_pred, zero_division=0))\n",
    "        accuracy_scores.append(accuracy_score(y_true, y_pred))\n",
    "\n",
    "        # Precision@k\n",
    "        hits = sum(y_true)\n",
    "        precision_at_k = hits / k\n",
    "        precision_scores.append(precision_at_k)\n",
    "\n",
    "        # NDCG@k\n",
    "        dcg = sum([int(relevant) / np.log2(idx + 2) for idx, relevant in enumerate(y_true)])\n",
    "        idcg = sum([1.0 / np.log2(i + 2) for i in range(min(len(true_items), k))])\n",
    "        ndcg = dcg / idcg if idcg > 0 else 0.0\n",
    "        ndcg_scores.append(ndcg)\n",
    "\n",
    "        users_evaluated += 1\n",
    "\n",
    "    # Aggregate scores\n",
    "    metrics = {\n",
    "        \"Users Evaluated\": users_evaluated,\n",
    "        \"Avg Precision\": round(np.mean(precision_scores), 4),\n",
    "        \"Avg Recall\": round(np.mean(recall_scores), 4),\n",
    "        \"Avg F1\": round(np.mean(f1_scores), 4),\n",
    "        \"Avg Accuracy\": round(np.mean(accuracy_scores), 4),\n",
    "        \"Avg NDCG@k\": round(np.mean(ndcg_scores), 4)\n",
    "    }\n",
    "\n",
    "    return metrics\n",
    "results = evaluate_recommender(recommend_autoencoder_content, df_test_expanded, k=10)\n",
    "print(\"✅ Evaluation Results (Autoencoder Recommender):\")\n",
    "for metric, value in results.items():\n",
    "    print(f\"{metric}: {value}\")\n"
   ]
  },
  {
   "cell_type": "code",
   "execution_count": 15,
   "id": "8ed85304",
   "metadata": {},
   "outputs": [
    {
     "data": {
      "text/plain": [
       "{'Users Evaluated': 15380,\n",
       " 'Avg Precision': 0.0053,\n",
       " 'Avg Recall': 0.0514,\n",
       " 'Avg F1': 0.0096,\n",
       " 'Avg Accuracy': 0.0053,\n",
       " 'Avg NDCG@k': 0.0219}"
      ]
     },
     "metadata": {},
     "output_type": "display_data"
    }
   ],
   "source": [
    "# Evaluate your TF-IDF recommender\n",
    "results = evaluate_recommender(recommend_tfidf_content, df_test_expanded, k=10)\n",
    "display(results)"
   ]
  }
 ],
 "metadata": {
  "kernelspec": {
   "display_name": "Python 3 (ipykernel)",
   "language": "python",
   "name": "python3"
  },
  "language_info": {
   "codemirror_mode": {
    "name": "ipython",
    "version": 3
   },
   "file_extension": ".py",
   "mimetype": "text/x-python",
   "name": "python",
   "nbconvert_exporter": "python",
   "pygments_lexer": "ipython3",
   "version": "3.11.5"
  }
 },
 "nbformat": 4,
 "nbformat_minor": 5
}
